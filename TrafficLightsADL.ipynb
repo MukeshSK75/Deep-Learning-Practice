{
  "nbformat": 4,
  "nbformat_minor": 0,
  "metadata": {
    "colab": {
      "provenance": [],
      "authorship_tag": "ABX9TyNfA17qNrlXWfJVejRf5Ssv",
      "include_colab_link": true
    },
    "kernelspec": {
      "name": "python3",
      "display_name": "Python 3"
    },
    "language_info": {
      "name": "python"
    }
  },
  "cells": [
    {
      "cell_type": "markdown",
      "metadata": {
        "id": "view-in-github",
        "colab_type": "text"
      },
      "source": [
        "<a href=\"https://colab.research.google.com/github/MukeshSK75/Deep-Learning-Practice/blob/main/TrafficLightsADL.ipynb\" target=\"_parent\"><img src=\"https://colab.research.google.com/assets/colab-badge.svg\" alt=\"Open In Colab\"/></a>"
      ]
    },
    {
      "cell_type": "code",
      "execution_count": null,
      "metadata": {
        "id": "YYyTjFavpNq1"
      },
      "outputs": [],
      "source": [
        "import numpy as np\n",
        "import tensorflow as tf\n",
        "from tensorflow.keras import layers,models\n",
        "import matplotlib.pyplot as plt\n",
        "from sklearn.model_selection import train_test_split\n",
        "\n",
        "def create_traffic_signal(label, img_size=28):\n",
        "    image = np.zeros((img_size, img_size), dtype=np.float32)\n",
        "    center_x = img_size // 2\n",
        "    if label == 0:  # red\n",
        "        image[6, center_x] = 1.0\n",
        "    elif label == 1:  # yellow\n",
        "        image[14, center_x] = 1.0\n",
        "    else:  # green\n",
        "        image[22, center_x] = 1.0\n",
        "    return image\n",
        "\n",
        "labels = np.random.randint(0, 3, 3000)\n",
        "images = np.array([create_traffic_signal(label) for label in labels])\n",
        "images = images.reshape(-1, 28, 28, 1)\n",
        "images = (images - 0.5) * 2\n",
        "\n",
        "x_train, _ = train_test_split(images, test_size=0.2, random_state=42)\n",
        "\n",
        "def build_generator():\n",
        "    model = models.Sequential([\n",
        "        layers.Dense(128, input_shape=(100,), activation='relu'),\n",
        "        layers.Dense(784, activation='tanh'),\n",
        "        layers.Reshape((28, 28, 1))\n",
        "    ])\n",
        "    return model\n",
        "\n",
        "def build_discriminator():\n",
        "    model = models.Sequential([\n",
        "        layers.Flatten(input_shape=(28, 28, 1)),\n",
        "        layers.Dense(128, activation='relu'),\n",
        "        layers.Dense(1, activation='sigmoid')\n",
        "    ])\n",
        "    return model\n",
        "\n",
        "generator = build_generator()\n",
        "discriminator = build_discriminator()\n",
        "discriminator.compile(optimizer='adam', loss='binary_crossentropy', metrics=['accuracy'])\n",
        "\n",
        "discriminator.trainable = False\n",
        "\n",
        "gan_input = layers.Input(shape=(100,))\n",
        "generated_img = generator(gan_input)\n",
        "gan_output = discriminator(generated_img)\n",
        "\n",
        "gan = models.Model(gan_input, gan_output)\n",
        "gan.compile(optimizer='adam', loss='binary_crossentropy')\n",
        "\n",
        "def show_sample_images(generator, n=5):\n",
        "    noise = np.random.normal(0, 1, (n, 100))\n",
        "    gen_imgs = generator.predict(noise, verbose=0)\n",
        "    gen_imgs = 0.5 * gen_imgs + 0.5\n",
        "\n",
        "    plt.figure(figsize=(10, 2))\n",
        "    for i in range(n):\n",
        "        plt.subplot(1, n, i + 1)\n",
        "        plt.imshow(gen_imgs[i, :, :, 0], cmap='gray')\n",
        "        plt.axis('off')\n",
        "    plt.show()\n",
        "\n",
        "def train_gan(epochs=1000, batch_size=32):\n",
        "    for epoch in range(epochs):\n",
        "\n",
        "        idx = np.random.randint(0, x_train.shape[0], batch_size)\n",
        "        real_imgs = x_train[idx]\n",
        "\n",
        "        noise = np.random.normal(0, 1, (batch_size, 100))\n",
        "        fake_imgs = generator.predict(noise, verbose=0)\n",
        "\n",
        "        real_y = np.ones((batch_size, 1))\n",
        "        fake_y = np.zeros((batch_size, 1))\n",
        "\n",
        "        d_loss_real = discriminator.train_on_batch(real_imgs, real_y)\n",
        "        d_loss_fake = discriminator.train_on_batch(fake_imgs, fake_y)\n",
        "\n",
        "        noise = np.random.normal(0, 1, (batch_size, 100))\n",
        "        valid_y = np.ones((batch_size, 1))\n",
        "        g_loss = gan.train_on_batch(noise, valid_y)\n",
        "\n",
        "        if epoch % 100 == 0:\n",
        "            print(f\"Epoch {epoch} | D loss: {0.5 * np.add(d_loss_real, d_loss_fake)} | G loss: {g_loss}\")\n",
        "            show_sample_images(generator)\n",
        "\n",
        "train_gan(epochs=1000, batch_size=64)"
      ]
    }
  ]
}