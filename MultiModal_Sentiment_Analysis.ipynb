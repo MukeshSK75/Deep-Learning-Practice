{
  "nbformat": 4,
  "nbformat_minor": 0,
  "metadata": {
    "colab": {
      "provenance": [],
      "authorship_tag": "ABX9TyMu8NacY9EM9/kQnFfFDMt7",
      "include_colab_link": true
    },
    "kernelspec": {
      "name": "python3",
      "display_name": "Python 3"
    },
    "language_info": {
      "name": "python"
    }
  },
  "cells": [
    {
      "cell_type": "markdown",
      "metadata": {
        "id": "view-in-github",
        "colab_type": "text"
      },
      "source": [
        "<a href=\"https://colab.research.google.com/github/MukeshSK75/Deep-Learning-Practice/blob/main/MultiModal_Sentiment_Analysis.ipynb\" target=\"_parent\"><img src=\"https://colab.research.google.com/assets/colab-badge.svg\" alt=\"Open In Colab\"/></a>"
      ]
    },
    {
      "cell_type": "code",
      "execution_count": null,
      "metadata": {
        "colab": {
          "base_uri": "https://localhost:8080/"
        },
        "id": "eOT8I_zJb64V",
        "outputId": "537fb9fd-a2e7-4625-885c-304f048018c6"
      },
      "outputs": [
        {
          "output_type": "stream",
          "name": "stdout",
          "text": [
            "Accuracy: 0.6\n",
            "Predicted Sentiment for sample0: positive\n"
          ]
        },
        {
          "output_type": "stream",
          "name": "stderr",
          "text": [
            "/usr/local/lib/python3.11/dist-packages/sklearn/neural_network/_multilayer_perceptron.py:691: ConvergenceWarning: Stochastic Optimizer: Maximum iterations (200) reached and the optimization hasn't converged yet.\n",
            "  warnings.warn(\n"
          ]
        }
      ],
      "source": [
        "import numpy as np\n",
        "from sklearn.model_selection import train_test_split\n",
        "from sklearn.neural_network import MLPClassifier\n",
        "from sklearn.metrics import accuracy_score\n",
        "\n",
        "# Simulated features\n",
        "text_features = np.random.rand(100, 50)\n",
        "audio_features = np.random.rand(100, 30)\n",
        "labels = np.random.randint(0, 2, 100)\n",
        "\n",
        "# Combine\n",
        "combined = np.concatenate((text_features, audio_features), axis=1)\n",
        "\n",
        "# Train classifier\n",
        "X_train, X_test, y_train, y_test = train_test_split(combined, labels, test_size=0.2)\n",
        "clf = MLPClassifier().fit(X_train, y_train)\n",
        "\n",
        "# Evaluate\n",
        "y_pred = clf.predict(X_test)\n",
        "print(\"Accuracy:\", accuracy_score(y_test, y_pred))\n",
        "\n",
        "sample_index = 0\n",
        "sample = X_test[sample_index].reshape(1,-1)\n",
        "\n",
        "predicted_label = clf.predict(sample)[0]\n",
        "\n",
        "sentiment = \"positive\" if predicted_label == 1 else \"negative\"\n",
        "print(f\"Predicted Sentiment for sample{sample_index}: {sentiment}\")"
      ]
    }
  ]
}